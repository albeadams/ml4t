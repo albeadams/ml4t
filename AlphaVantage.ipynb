{
 "cells": [
  {
   "cell_type": "markdown",
   "id": "eeec1334-eec8-46ca-827e-b62081a3fcd7",
   "metadata": {},
   "source": [
    "# Alpha Vantage for Technical Indicators, etc.\n",
    "\n",
    "https://www.alphavantage.co/documentation/"
   ]
  },
  {
   "cell_type": "code",
   "execution_count": 1,
   "id": "a0a2a216-4bb7-41b0-addb-24a3590b9127",
   "metadata": {},
   "outputs": [],
   "source": [
    "import requests\n",
    "from bs4 import BeautifulSoup\n",
    "\n",
    "from paper_config import *"
   ]
  },
  {
   "cell_type": "code",
   "execution_count": 2,
   "id": "23714dba-1f05-47fb-8a0f-700d41ed174e",
   "metadata": {},
   "outputs": [],
   "source": [
    "url = requests.get('https://www.alphavantage.co/documentation/')\n",
    "soup = BeautifulSoup(url.text, 'html.parser')"
   ]
  },
  {
   "cell_type": "code",
   "execution_count": 3,
   "id": "cac8cc1a-8c97-48f3-bce8-102cb5ecb749",
   "metadata": {},
   "outputs": [
    {
     "name": "stdout",
     "output_type": "stream",
     "text": [
      "\n",
      "SMA High Usage\n",
      "EMA High Usage\n",
      "WMA\n",
      "DEMA\n",
      "TEMA\n",
      "TRIMA\n",
      "KAMA\n",
      "MAMA\n",
      "VWAP High Usage\n",
      "T3\n",
      "MACD High Usage\n",
      "MACDEXT\n",
      "STOCH High Usage\n",
      "STOCHF\n",
      "RSI High Usage\n",
      "STOCHRSI\n",
      "WILLR\n",
      "ADX High Usage\n",
      "ADXR\n",
      "APO\n",
      "PPO\n",
      "MOM\n",
      "BOP\n",
      "CCI High Usage\n",
      "CMO\n",
      "ROC\n",
      "ROCR\n",
      "AROON High Usage\n",
      "AROONOSC\n",
      "MFI\n",
      "TRIX\n",
      "ULTOSC\n",
      "DX\n",
      "MINUS_DI\n",
      "PLUS_DI\n",
      "MINUS_DM\n",
      "PLUS_DM\n",
      "BBANDS High Usage\n",
      "MIDPOINT\n",
      "MIDPRICE\n",
      "SAR\n",
      "TRANGE\n",
      "ATR\n",
      "NATR\n",
      "AD High Usage\n",
      "ADOSC\n",
      "OBV High Usage\n",
      "HT_TRENDLINE\n",
      "HT_SINE\n",
      "HT_TRENDMODE\n",
      "HT_DCPERIOD\n",
      "HT_DCPHASE\n",
      "HT_PHASOR\n",
      "\n"
     ]
    }
   ],
   "source": [
    "toc = ['time-series-data', 'fundamentals', 'fx', 'digital-currenct', 'technical-indicators']\n",
    "\n",
    "def get_toc(category='technical-indicators'):\n",
    "    a = soup.find_all('a', href=True)\n",
    "    for e in a:\n",
    "        if e['href'] == '#' + category:\n",
    "            li = e.parent.findChildren(\"ul\", recursive=True)[0].text\n",
    "            for l in li.split('\\n'):\n",
    "                print(l)\n",
    "\n",
    "get_toc('technical-indicators')"
   ]
  },
  {
   "cell_type": "code",
   "execution_count": 5,
   "id": "327d932f-614e-44be-926b-cee2983d8129",
   "metadata": {},
   "outputs": [],
   "source": [
    "def technical_indicator(type='SMA', \n",
    "                        symbol='AAPL', \n",
    "                        interval='weekly', \n",
    "                        time_period='10', \n",
    "                        series_type='open'):\n",
    "    query = 'https://www.alphavantage.co/query'\n",
    "    url = f'{query}?function={type}&symbol={symbol}&interval={interval}&time_period={time_period}&series_type={series_type}&apikey=ALPHA_VANTAGE_KEY'\n",
    "    r = requests.get(url)\n",
    "    data = r.json()\n",
    "    return data\n",
    "\n",
    "x = technical_indicator(interval='daily')"
   ]
  },
  {
   "cell_type": "code",
   "execution_count": 9,
   "id": "b01c0164-49f8-4a54-b61c-c4cdf3391f61",
   "metadata": {},
   "outputs": [
    {
     "name": "stdout",
     "output_type": "stream",
     "text": [
      "Meta Data\n",
      "Technical Analysis: SMA\n"
     ]
    }
   ],
   "source": [
    "for key, value in x.items():\n",
    "    print(key)"
   ]
  },
  {
   "cell_type": "code",
   "execution_count": null,
   "id": "4f0aea68-e09c-4a15-85c0-0420f17d2947",
   "metadata": {},
   "outputs": [],
   "source": []
  }
 ],
 "metadata": {
  "kernelspec": {
   "display_name": "Python 3",
   "language": "python",
   "name": "python3"
  },
  "language_info": {
   "codemirror_mode": {
    "name": "ipython",
    "version": 3
   },
   "file_extension": ".py",
   "mimetype": "text/x-python",
   "name": "python",
   "nbconvert_exporter": "python",
   "pygments_lexer": "ipython3",
   "version": "3.8.10"
  }
 },
 "nbformat": 4,
 "nbformat_minor": 5
}
