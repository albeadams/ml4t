{
 "cells": [
  {
   "cell_type": "code",
   "execution_count": 1,
   "id": "ef1fcf30-a64f-4d64-a396-d127b7111dcc",
   "metadata": {},
   "outputs": [
    {
     "name": "stderr",
     "output_type": "stream",
     "text": [
      "C:\\Users\\albeadam\\Miniconda3\\envs\\ml4t\\lib\\site-packages\\arctic\\_util.py:6: FutureWarning: pandas.util.testing is deprecated. Use the functions in the public API at pandas.testing instead.\n",
      "  from pandas.util.testing import assert_frame_equal\n",
      "C:\\Users\\albeadam\\Miniconda3\\envs\\ml4t\\lib\\site-packages\\arctic\\store\\_pandas_ndarray_store.py:6: FutureWarning: The Panel class is removed from pandas. Accessing it from the top-level namespace will also be removed in the next version\n",
      "  from pandas import DataFrame, Series, Panel\n"
     ]
    }
   ],
   "source": [
    "import json\n",
    "import warnings\n",
    "from arctic import Arctic\n",
    "from pymongo import MongoClient\n",
    "import pandas as pd\n",
    "\n",
    "import alpha\n",
    "\n",
    "warnings.filterwarnings(\"ignore\")"
   ]
  },
  {
   "cell_type": "code",
   "execution_count": 42,
   "id": "128908c0-cb6c-4093-9fd6-96ff2fa6c661",
   "metadata": {},
   "outputs": [],
   "source": [
    "class Mongo:\n",
    "    def __init__(self):\n",
    "        self.client = MongoClient('localhost')\n",
    "        self.db = self.client.admin\n",
    "\n",
    "    def server_status(self):\n",
    "        serverStatusResult = self.db.command(\"serverStatus\")\n",
    "        return serverStatusResult\n",
    "\n",
    "    def get_databases(self):\n",
    "        return self.client.list_database_names()\n",
    "\n",
    "    def get_collections(self):\n",
    "        d = dict((db, [collection for collection in self.client[db].list_collection_names()])\n",
    "                 for db in self.client.list_database_names())\n",
    "        print(json.dumps(d))\n",
    "        \n",
    "    def drop_database(self, name):\n",
    "        self.client.drop_database(name)\n",
    "        \n",
    "class DataStore:\n",
    "    def __init__(self, name='NASDAQ'):\n",
    "        mg = Mongo()\n",
    "        self.store = Arctic('localhost')\n",
    "        try:\n",
    "            self.library = self.store[name]\n",
    "        except:\n",
    "            self.create_library(name)\n",
    "            self.library = self.store[name]\n",
    "        \n",
    "    def create_library(self, library_name=None):\n",
    "        if library_name is None:\n",
    "            print('supply a library name')\n",
    "            return\n",
    "        self.store.initialize_library(library_name)\n",
    "        \n",
    "    def write(self, name=None, df=None, metadata=None):\n",
    "        if name is None or df is None:\n",
    "            print('supply name and/or dataframe')\n",
    "            return\n",
    "        self.library.write(name, df)\n",
    "        \n",
    "    def delete(self, name=None):\n",
    "        # function not working - delete is not deleting library\n",
    "        if name is None:\n",
    "            print('supply a name to delete')\n",
    "        self.library.delete(name)\n",
    "        print(f'{name} deleted')\n",
    "        \n",
    "    def list(self):\n",
    "        return self.store.list_libraries()\n",
    "    \n",
    "    def read(self, symbol=None):\n",
    "        if symbol is None:\n",
    "            print('supply a library symbol')\n",
    "            return\n",
    "        item = self.library.read(symbol)\n",
    "        return item.data, item.metadata\n",
    "    \n",
    "    def append(self, name=None, df=None):\n",
    "        if name is None or df is None:\n",
    "            print('supply name or df')\n",
    "            return\n",
    "        self.library.append(name, df, upsert=True)"
   ]
  },
  {
   "cell_type": "code",
   "execution_count": 38,
   "id": "70517871-d847-4b60-b6e6-18dc19cbc82f",
   "metadata": {},
   "outputs": [
    {
     "name": "stdout",
     "output_type": "stream",
     "text": [
      "{\"admin\": [\"system.version\"], \"arctic\": [\"NASDAQ.ARCTIC\", \"NASDAQ.snapshots\", \"NASDAQ.version_nums\", \"NASDAQ\", \"NASDAQ.versions\"], \"config\": [\"system.sessions\"], \"local\": [\"startup_log\"], \"meta_db\": [\"cache\"]}\n"
     ]
    }
   ],
   "source": [
    "data = DataStore()"
   ]
  },
  {
   "cell_type": "code",
   "execution_count": 41,
   "id": "2e0092eb-3aee-4194-8520-d1c6838ebc15",
   "metadata": {},
   "outputs": [],
   "source": [
    "# d, md = data.read('AAPL_SMA')\n",
    "# md"
   ]
  },
  {
   "cell_type": "code",
   "execution_count": 24,
   "id": "d5237dda-2d3f-4446-890c-d36d821f676e",
   "metadata": {},
   "outputs": [
    {
     "data": {
      "text/plain": [
       "VersionedItem(symbol=AAPL_SMA,library=arctic.NASDAQ,data=<class 'NoneType'>,version=2,metadata={'1: Symbol': 'AAPL', '2: Indicator': 'Simple Moving Average (SMA)', '3: Last Refreshed': '2021-06-14 16:00:01', '4: Interval': 'weekly', '5: Time Period': 10, '6: Series Type': 'open', '7: Time Zone': 'US/Eastern'},host=localhost)"
      ]
     },
     "execution_count": 24,
     "metadata": {},
     "output_type": "execute_result"
    }
   ],
   "source": [
    "\n",
    "toc = alpha.get_toc()\n",
    "SMA = alpha.technical_indicator(toc[1].replace(' High Usage', ''))\n",
    "\n",
    "md = SMA['Meta Data']\n",
    "SMA = SMA['Technical Analysis: SMA']\n"
   ]
  },
  {
   "cell_type": "code",
   "execution_count": null,
   "id": "87cd9209-5c82-41f3-9e55-ad3e91b292d4",
   "metadata": {},
   "outputs": [],
   "source": []
  }
 ],
 "metadata": {
  "kernelspec": {
   "display_name": "Python 3",
   "language": "python",
   "name": "python3"
  },
  "language_info": {
   "codemirror_mode": {
    "name": "ipython",
    "version": 3
   },
   "file_extension": ".py",
   "mimetype": "text/x-python",
   "name": "python",
   "nbconvert_exporter": "python",
   "pygments_lexer": "ipython3",
   "version": "3.8.10"
  }
 },
 "nbformat": 4,
 "nbformat_minor": 5
}
