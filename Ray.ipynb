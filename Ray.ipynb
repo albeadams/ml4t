{
 "cells": [
  {
   "cell_type": "code",
   "execution_count": null,
   "id": "641f9d53-88de-4bd9-ada1-9ff0c05e0456",
   "metadata": {},
   "outputs": [],
   "source": [
    "# from ray import tune\n",
    "# from ray.rllib.agents.ppo import PPOTrainer\n",
    "# tune.run(PPOTrainer, config={\"env\": \"CartPole-v0\", \"log_level\": \"INFO\", \"framework\": \"torch\"})"
   ]
  },
  {
   "cell_type": "code",
   "execution_count": 20,
   "id": "1e1e08d3-aac1-43e9-9a0b-cf880d55b33b",
   "metadata": {},
   "outputs": [],
   "source": [
    "import gym\n",
    "import numpy as np\n",
    "from gym import spaces\n",
    "\n",
    "class StockTrader(gym.Env):\n",
    "    \n",
    "    def __init__(self, num_indicators):\n",
    "        assert num_indicators > 0, \"Supply 1 or more indicators\"\n",
    "        self.action_space = spaces.Discrete(3)\n",
    "\n",
    "        # set space for alpha indicators at +- infinity...?\n",
    "        low_array = np.full((num_indicators), -np.inf)\n",
    "        high_array = np.full((num_indicators), np.inf)\n",
    "        self.observation_space = spaces.Box(low=low_array, high=high_aray, dtype=np.float64)\n",
    "\n",
    "    def reset(self):\n",
    "        return <obs>\n",
    "    \n",
    "    def step(self, action):\n",
    "        #https://github.com/openai/gym/blob/master/gym/envs/classic_control/cartpole.py\n",
    "        err_msg = \"%r (%s) invalid\" % (action, type(action))\n",
    "        asset self.action_space.contains(action), err_msg\n",
    "        \n",
    "        return <obs>, <reward: float>, <done: bool>, <info: dict>"
   ]
  }
 ],
 "metadata": {
  "kernelspec": {
   "display_name": "Python 3",
   "language": "python",
   "name": "python3"
  },
  "language_info": {
   "codemirror_mode": {
    "name": "ipython",
    "version": 3
   },
   "file_extension": ".py",
   "mimetype": "text/x-python",
   "name": "python",
   "nbconvert_exporter": "python",
   "pygments_lexer": "ipython3",
   "version": "3.8.10"
  }
 },
 "nbformat": 4,
 "nbformat_minor": 5
}
