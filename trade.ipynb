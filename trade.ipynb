{
 "cells": [
  {
   "cell_type": "code",
   "execution_count": 6,
   "id": "6229c5c0-41b3-490e-aee8-a3ff32c7d234",
   "metadata": {},
   "outputs": [],
   "source": [
    "import config\n",
    "import requests\n",
    "\n",
    "#r = requests.get()"
   ]
  },
  {
   "cell_type": "code",
   "execution_count": 8,
   "id": "d4ff5ff8-171d-48f9-b23e-8401eb5a0701",
   "metadata": {},
   "outputs": [
    {
     "ename": "NameError",
     "evalue": "name 'ENDPOINT_URL' is not defined",
     "output_type": "error",
     "traceback": [
      "\u001b[1;31m---------------------------------------------------------------------------\u001b[0m",
      "\u001b[1;31mNameError\u001b[0m                                 Traceback (most recent call last)",
      "\u001b[1;32m<ipython-input-8-69c898e8430b>\u001b[0m in \u001b[0;36m<module>\u001b[1;34m\u001b[0m\n\u001b[1;32m----> 1\u001b[1;33m \u001b[0mconfig\u001b[0m\u001b[1;33m[\u001b[0m\u001b[0mENDPOINT_URL\u001b[0m\u001b[1;33m]\u001b[0m\u001b[1;33m\u001b[0m\u001b[1;33m\u001b[0m\u001b[0m\n\u001b[0m",
      "\u001b[1;31mNameError\u001b[0m: name 'ENDPOINT_URL' is not defined"
     ]
    }
   ],
   "source": [
    "config[ENDPOINT_URL]"
   ]
  },
  {
   "cell_type": "code",
   "execution_count": null,
   "id": "8418c624-51a9-48b0-a5d0-cbee66d54739",
   "metadata": {},
   "outputs": [],
   "source": []
  }
 ],
 "metadata": {
  "kernelspec": {
   "display_name": "Python 3",
   "language": "python",
   "name": "python3"
  },
  "language_info": {
   "codemirror_mode": {
    "name": "ipython",
    "version": 3
   },
   "file_extension": ".py",
   "mimetype": "text/x-python",
   "name": "python",
   "nbconvert_exporter": "python",
   "pygments_lexer": "ipython3",
   "version": "3.9.1"
  }
 },
 "nbformat": 4,
 "nbformat_minor": 5
}
