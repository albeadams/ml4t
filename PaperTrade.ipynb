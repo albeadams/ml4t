{
 "cells": [
  {
   "cell_type": "markdown",
   "id": "122c5467-665c-4c68-8f07-4244879e5ae7",
   "metadata": {},
   "source": [
    "### Uses Paper Trade - test money\n",
    "##### https://alpaca.markets/docs/api-documentation/api-v2/"
   ]
  },
  {
   "cell_type": "code",
   "execution_count": 1,
   "id": "6229c5c0-41b3-490e-aee8-a3ff32c7d234",
   "metadata": {},
   "outputs": [
    {
     "name": "stderr",
     "output_type": "stream",
     "text": [
      "C:\\Users\\albeadam\\Miniconda3\\envs\\ml4t\\lib\\site-packages\\arctic\\_util.py:6: FutureWarning: pandas.util.testing is deprecated. Use the functions in the public API at pandas.testing instead.\n",
      "  from pandas.util.testing import assert_frame_equal\n",
      "C:\\Users\\albeadam\\Miniconda3\\envs\\ml4t\\lib\\site-packages\\arctic\\store\\_pandas_ndarray_store.py:6: FutureWarning: The Panel class is removed from pandas. Accessing it from the top-level namespace will also be removed in the next version\n",
      "  from pandas import DataFrame, Series, Panel\n"
     ]
    }
   ],
   "source": [
    "import requests, json\n",
    "import time, datetime\n",
    "\n",
    "from paper_config import *\n",
    "import alpha, database\n",
    "\n",
    "DataStore = database.DataStore()"
   ]
  },
  {
   "cell_type": "code",
   "execution_count": 2,
   "id": "d4ff5ff8-171d-48f9-b23e-8401eb5a0701",
   "metadata": {},
   "outputs": [],
   "source": [
    "def get_account():\n",
    "    r = requests.get(ALPACA_ACCOUNT_URL, headers=HEADERS)\n",
    "    return json.loads(r.content)\n",
    "\n",
    "def create_order(symbol, qty, side, type, time_in_force):\n",
    "    data = {\n",
    "        'symbol': symbol,\n",
    "        'qty': qty,\n",
    "        'side': side,\n",
    "        'type': type,\n",
    "        'time_in_force': time_in_force\n",
    "    }\n",
    "    r = request.post(ORDERS_URL, json=data, header=HEADERS)\n",
    "    return json.loads(r.content)\n",
    "    \n",
    "def get_orders():\n",
    "    r = requests.get(ORDERS_URL, header=HEADERS)\n",
    "    return json.loads(r.content)"
   ]
  },
  {
   "cell_type": "code",
   "execution_count": 3,
   "id": "d8fd2e7c-f935-441a-a993-c49dc97e18fa",
   "metadata": {},
   "outputs": [],
   "source": [
    "def populate_popular_stocks_high_usage_alphas(interval):\n",
    "    # test of AAPL, TSLA, AMZN, AMD, FB, NFLX using High Usage\n",
    "    stocks = ['AAPL', 'TSLA', 'AMZN', 'AMD', 'FB', 'NFLX']\n",
    "    toc = alpha.get_toc()\n",
    "    \n",
    "    high_indicators = []\n",
    "    for indicator in toc:\n",
    "        if 'High Usage' in indicator:\n",
    "            name = indicator.replace(' High Usage', '')\n",
    "            high_indicators.append(name)\n",
    "    \n",
    "    status = 1\n",
    "    for stock in stocks:\n",
    "        for indicator in high_indicators:\n",
    "            status = DataStore.add(stock, indicator, interval)\n",
    "            if status == -1:\n",
    "                break\n",
    "        if status == -1:\n",
    "            break\n",
    "    if status == -1:\n",
    "        time.sleep(60)\n",
    "        populate_popular_stocks_high_usage_alphas(interval)\n",
    "        \n"
   ]
  },
  {
   "cell_type": "code",
   "execution_count": 6,
   "id": "00e77736-0025-4b65-9d1c-abd1957dcb85",
   "metadata": {},
   "outputs": [],
   "source": [
    "x,y = DataStore.read('AAPL_OBV_daily')"
   ]
  },
  {
   "cell_type": "code",
   "execution_count": 15,
   "id": "04c96ed5-cc10-4715-98cc-71f059efef5f",
   "metadata": {},
   "outputs": [
    {
     "data": {
      "text/plain": [
       "['2021-06-14']"
      ]
     },
     "execution_count": 15,
     "metadata": {},
     "output_type": "execute_result"
    }
   ],
   "source": [
    "key = [k for k in y.keys() if 'Last Refreshed' in k]\n",
    "last_refreshed = y[key[0]]\n",
    "dates = list(x.keys())\n",
    "dates.sort(key = lambda date: datetime.datetime.strptime(date, '%Y-%m-%d'), reverse=True)\n",
    "need_refreshing = dates[:dates.index(last_refreshed)+1]\n",
    "need_refreshing"
   ]
  },
  {
   "cell_type": "code",
   "execution_count": 10,
   "id": "39465a42-4cdd-4b32-acf5-95b8205325af",
   "metadata": {},
   "outputs": [
    {
     "data": {
      "text/plain": [
       "'2021-06-15'"
      ]
     },
     "execution_count": 10,
     "metadata": {},
     "output_type": "execute_result"
    }
   ],
   "source": [
    "key = [k for k in y.keys() if 'Last Refreshed' in k]\n",
    "last_refreshed = y[key[0]]\n",
    "dates = list(x.keys())\n",
    "dates.sort(key = lambda date: datetime.datetime.strptime(date, '%Y-%m-%d'), reverse=True)\n",
    "need_refreshing = dates[:dates.index(last_refreshed)+1]\n",
    "need_refreshing\n",
    "\n",
    "# everything after this data, including this data, will need to be replaced\n",
    "\n",
    "# first remove this date (using Arctic)\n",
    "\n",
    "# then append from the API call this date and dates after, will have to use similar method to get dates on or after...\n",
    "datetime.datetime.strftime(datetime.datetime.now(), '%Y-%m-%d')"
   ]
  },
  {
   "cell_type": "code",
   "execution_count": 12,
   "id": "80722588-5b56-4d96-a370-026ea1e7e96e",
   "metadata": {},
   "outputs": [
    {
     "name": "stdout",
     "output_type": "stream",
     "text": [
      "AAPL ADX daily\n",
      "AAPL AD daily\n",
      "AAPL AROON daily\n",
      "AAPL BBANDS daily\n",
      "AAPL CCI daily\n",
      "AAPL EMA daily\n",
      "AAPL MACD daily\n",
      "AAPL OBV daily\n",
      "AAPL RSI daily\n",
      "AAPL SMA daily\n",
      "AAPL STOCH daily\n",
      "AMD ADX daily\n",
      "AMD AD daily\n",
      "AMD AROON daily\n",
      "AMD BBANDS daily\n",
      "AMD CCI daily\n",
      "AMD EMA daily\n",
      "AMD MACD daily\n",
      "AMD OBV daily\n",
      "AMD RSI daily\n",
      "AMD SMA daily\n",
      "AMD STOCH daily\n",
      "AMZN ADX daily\n",
      "AMZN AD daily\n",
      "AMZN AROON daily\n",
      "AMZN BBANDS daily\n",
      "AMZN CCI daily\n",
      "AMZN EMA daily\n",
      "AMZN MACD daily\n",
      "AMZN OBV daily\n",
      "AMZN RSI daily\n",
      "AMZN SMA daily\n",
      "AMZN STOCH daily\n",
      "FB ADX daily\n",
      "FB AD daily\n",
      "FB AROON daily\n",
      "FB BBANDS daily\n",
      "FB CCI daily\n",
      "FB EMA daily\n",
      "FB MACD daily\n",
      "FB OBV daily\n",
      "FB RSI daily\n",
      "FB SMA daily\n",
      "FB STOCH daily\n",
      "NFLX ADX daily\n",
      "NFLX AD daily\n",
      "NFLX AROON daily\n",
      "NFLX BBANDS daily\n",
      "NFLX CCI daily\n",
      "NFLX EMA daily\n",
      "NFLX MACD daily\n",
      "NFLX OBV daily\n",
      "NFLX RSI daily\n",
      "NFLX SMA daily\n",
      "NFLX STOCH daily\n",
      "TSLA ADX daily\n",
      "TSLA AD daily\n",
      "TSLA AROON daily\n",
      "TSLA BBANDS daily\n",
      "TSLA CCI daily\n",
      "TSLA EMA daily\n",
      "TSLA MACD daily\n",
      "TSLA OBV daily\n",
      "TSLA RSI daily\n",
      "TSLA SMA daily\n",
      "TSLA STOCH daily\n"
     ]
    }
   ],
   "source": [
    "def update_symbol(stock, indicator, interval):\n",
    "    DataStore.delete(stock + '_' + indicator + '_' + interval)\n",
    "    status = DataStore.add(stock, indicator, interval)\n",
    "    if status == -1:\n",
    "        time.sleep(60)\n",
    "        update_symbol(stock, indicator, interval)\n",
    "\n",
    "def update(sym='all', indicator='all', interval='daily'): # move to database.py, add self, change DataStore to self.\n",
    "    stores = DataStore.get_symbols()\n",
    "    updates = 0\n",
    "    for store in stores:\n",
    "        intr = store[store.find('_', store.find('_')+1)+1:]\n",
    "        ind = store[store.find('_')+1:store.find('_', store.find('_')+1)]\n",
    "        s = store[:store.find('_')]\n",
    "        if sym == 'all' and indicator == 'all':\n",
    "            if intr == interval:\n",
    "                updates += 1\n",
    "        elif sym == 'all':\n",
    "            if ind == indicator and intr == interval:\n",
    "                updates += 1\n",
    "        elif indicator == 'all':\n",
    "            if s == sym and intr == interval:\n",
    "                updates += 1\n",
    "        elif s == sym and intr == interval and ind == indicator:\n",
    "            updates += 1\n",
    "            \n",
    "    print(f'Approximate time to update {updates} symbols = {(updates/5)-1} minutes')\n",
    "        \n",
    "    for store in stores:\n",
    "        intr = store[store.find('_', store.find('_')+1)+1:]\n",
    "        ind = store[store.find('_')+1:store.find('_', store.find('_')+1)]\n",
    "        s = store[:store.find('_')]\n",
    "        if sym == 'all' and indicator == 'all':\n",
    "            if intr == interval:\n",
    "                update_symbol(s, ind, intr)\n",
    "        elif sym == 'all':\n",
    "            if ind == indicator and intr == interval:\n",
    "                update_symbol(s, ind, intr)\n",
    "        elif indicator == 'all':\n",
    "            if s == sym and intr == interval:\n",
    "                update_symbol(s, ind, intr)\n",
    "        elif s == sym and intr == interval and ind == indicator:\n",
    "            update_symbol(s, ind, intr)"
   ]
  },
  {
   "cell_type": "code",
   "execution_count": 22,
   "id": "a4870d44-81f5-43b6-9bf7-ac259425f486",
   "metadata": {},
   "outputs": [],
   "source": [
    "x.pop('dfd', None)"
   ]
  },
  {
   "cell_type": "code",
   "execution_count": 14,
   "id": "ca184762-24c9-4fe6-bb07-4ec1b5222166",
   "metadata": {},
   "outputs": [],
   "source": [
    "x = x.pop('5.1: Fast Period', None)"
   ]
  },
  {
   "cell_type": "code",
   "execution_count": 15,
   "id": "345cf9ac-0884-4ede-a284-b3a3417b0280",
   "metadata": {},
   "outputs": [
    {
     "data": {
      "text/plain": [
       "12"
      ]
     },
     "execution_count": 15,
     "metadata": {},
     "output_type": "execute_result"
    }
   ],
   "source": [
    "x"
   ]
  },
  {
   "cell_type": "code",
   "execution_count": null,
   "id": "90e0e9da-3dbf-4c58-8ab0-dbc3a1a2cfae",
   "metadata": {},
   "outputs": [],
   "source": []
  }
 ],
 "metadata": {
  "kernelspec": {
   "display_name": "Python 3",
   "language": "python",
   "name": "python3"
  },
  "language_info": {
   "codemirror_mode": {
    "name": "ipython",
    "version": 3
   },
   "file_extension": ".py",
   "mimetype": "text/x-python",
   "name": "python",
   "nbconvert_exporter": "python",
   "pygments_lexer": "ipython3",
   "version": "3.8.10"
  }
 },
 "nbformat": 4,
 "nbformat_minor": 5
}
