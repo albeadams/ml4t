{
 "cells": [
  {
   "cell_type": "markdown",
   "id": "122c5467-665c-4c68-8f07-4244879e5ae7",
   "metadata": {},
   "source": [
    "### Uses Paper Trade - test money\n",
    "##### https://alpaca.markets/docs/api-documentation/api-v2/"
   ]
  },
  {
   "cell_type": "code",
   "execution_count": 31,
   "id": "27f732e7-bdf0-4b1e-a01b-31ec0f4fff00",
   "metadata": {},
   "outputs": [],
   "source": [
    "import warnings\n",
    "warnings.simplefilter(action='ignore', category=FutureWarning)\n",
    "\n",
    "import time, datetime as dt\n",
    "import pandas as pd, numpy as np\n",
    "import matplotlib.pyplot as plt\n",
    "%matplotlib inline\n",
    "import sys\n",
    "import math\n",
    "\n",
    "import alpha\n",
    "import alpaca\n",
    "import database as db\n",
    "from populate import download_data\n",
    "from portfolios import Portfolio\n",
    "from history import *\n",
    "\n",
    "DataStore = db.DataStore()\n",
    "\n",
    "from sklearn import tree\n",
    "from sklearn.model_selection import train_test_split\n",
    "from sklearn.model_selection import cross_val_score\n",
    "from sklearn.preprocessing import StandardScaler\n",
    "from sklearn.metrics import accuracy_score\n",
    "from sklearn.ensemble import AdaBoostRegressor\n",
    "from sklearn.datasets import make_regression"
   ]
  },
  {
   "cell_type": "code",
   "execution_count": 20,
   "id": "667d7986-0cd7-48c3-a965-15d1d3be70ff",
   "metadata": {},
   "outputs": [],
   "source": [
    "dates = [dt.datetime(2019,1,1), dt.datetime(2022,12,31)]\n",
    "sym = 'JPM'\n",
    "#indicators = ['SMA','OBV', 'AD', 'BBANDS', 'MFI', 'SAR', 'T3', 'MOM', 'MIDPRICE', 'WMA']\n",
    "indicators = 'all'\n",
    "history = History(DataStore, sym, dates, indicators=indicators)\n",
    "indicators = history.indicators\n",
    "prices = history.prices\n",
    "\n",
    "indicators.rename(columns={'adjusted close': 'Close'}, inplace=True)"
   ]
  },
  {
   "cell_type": "code",
   "execution_count": 21,
   "id": "3c356664-96a9-4d72-9c90-9a12e9a9a664",
   "metadata": {},
   "outputs": [],
   "source": [
    "predictors = indicators.iloc[:, 1:]\n",
    "close_price = indicators.iloc[:, 0]\n",
    "\n",
    "# predict tomorrow's closing price using today's indicators... \n",
    "predictors = predictors[:-1]\n",
    "close_price = close_price[1:]"
   ]
  },
  {
   "cell_type": "code",
   "execution_count": 22,
   "id": "f12d4678-8770-46ed-a7de-5d56dbd3ebb8",
   "metadata": {},
   "outputs": [
    {
     "data": {
      "text/plain": [
       "(634, 50)"
      ]
     },
     "execution_count": 22,
     "metadata": {},
     "output_type": "execute_result"
    }
   ],
   "source": [
    "predictors.shape"
   ]
  },
  {
   "cell_type": "code",
   "execution_count": 24,
   "id": "daa51cf7-025f-49d9-9e92-f42b789b60cf",
   "metadata": {},
   "outputs": [],
   "source": [
    "scaler = StandardScaler()\n",
    "predictors = scaler.fit_transform(predictors)\n",
    "\n",
    "#X_train, X_test, y_train, y_test = train_test_split(predictors, close_price, test_size=0.3)\n",
    "X_train = predictors[:450]\n",
    "y_train = close_price[:450]\n",
    "\n",
    "X_test = predictors[451:]\n",
    "y_test = close_price[451:]\n",
    "\n",
    "y_train = y_train.to_numpy().astype(float)\n",
    "y_test = y_test.to_numpy().astype(float)"
   ]
  },
  {
   "cell_type": "code",
   "execution_count": 34,
   "id": "142067ca-00cc-4457-80fa-27fa35d252fe",
   "metadata": {},
   "outputs": [
    {
     "data": {
      "text/plain": [
       "0.0"
      ]
     },
     "execution_count": 34,
     "metadata": {},
     "output_type": "execute_result"
    }
   ],
   "source": [
    "clf = tree.DecisionTreeRegressor()\n",
    "clf.fit(X_train, y_train)\n",
    "y_pred = clf.predict(X_train)\n",
    "math.sqrt(((y_train - y_pred) ** 2).sum()/y_train.shape[0]) "
   ]
  },
  {
   "cell_type": "code",
   "execution_count": 35,
   "id": "b56d472a-5fde-4bf8-bf79-caa6769762fd",
   "metadata": {},
   "outputs": [
    {
     "data": {
      "text/plain": [
       "-0.022968669354906934"
      ]
     },
     "execution_count": 35,
     "metadata": {},
     "output_type": "execute_result"
    }
   ],
   "source": [
    "X, y = make_regression(n_features=4, n_informative=2,shuffle=False)\n",
    "regr = AdaBoostRegressor(n_estimators=100)\n",
    "regr.fit(X_train, y_train)\n",
    "regr.score(X_test, y_test)"
   ]
  },
  {
   "cell_type": "code",
   "execution_count": null,
   "id": "c1189b76-142a-4672-a685-8313016edbab",
   "metadata": {},
   "outputs": [],
   "source": []
  }
 ],
 "metadata": {
  "kernelspec": {
   "display_name": "Python 3",
   "language": "python",
   "name": "python3"
  },
  "language_info": {
   "codemirror_mode": {
    "name": "ipython",
    "version": 3
   },
   "file_extension": ".py",
   "mimetype": "text/x-python",
   "name": "python",
   "nbconvert_exporter": "python",
   "pygments_lexer": "ipython3",
   "version": "3.8.10"
  }
 },
 "nbformat": 4,
 "nbformat_minor": 5
}
