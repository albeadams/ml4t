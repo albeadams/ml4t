{
 "cells": [
  {
   "cell_type": "markdown",
   "id": "122c5467-665c-4c68-8f07-4244879e5ae7",
   "metadata": {},
   "source": [
    "### Uses Paper Trade - test money\n",
    "##### https://alpaca.markets/docs/api-documentation/api-v2/"
   ]
  },
  {
   "cell_type": "code",
   "execution_count": 14,
   "id": "27f732e7-bdf0-4b1e-a01b-31ec0f4fff00",
   "metadata": {},
   "outputs": [],
   "source": [
    "import warnings\n",
    "warnings.simplefilter(action='ignore', category=FutureWarning)\n",
    "\n",
    "import time, datetime as dt\n",
    "import pandas as pd, numpy as np\n",
    "import matplotlib.pyplot as plt\n",
    "%matplotlib inline\n",
    "import sys\n",
    "\n",
    "import alpha\n",
    "import alpaca\n",
    "import database as db\n",
    "from populate import download_data\n",
    "from portfolios import Portfolio\n",
    "from history import *\n",
    "\n",
    "DataStore = db.DataStore()\n",
    "\n",
    "from sklearn import tree\n",
    "from sklearn.model_selection import train_test_split\n",
    "from sklearn.model_selection import cross_val_score\n",
    "from sklearn.preprocessing import StandardScaler\n",
    "from sklearn.metrics import accuracy_score\n",
    "from sklearn.ensemble import AdaBoostRegressor\n",
    "from sklearn.datasets import make_regression"
   ]
  },
  {
   "cell_type": "code",
   "execution_count": 3,
   "id": "70fd66a3-e2e7-4eb1-b72c-8727e45f921f",
   "metadata": {},
   "outputs": [
    {
     "name": "stdout",
     "output_type": "stream",
     "text": [
      "Approximate time to update 40 symbols = 7.0 minutes\n",
      "JPM_ADXR_daily deleted\n",
      "exceeded limit\n",
      "JPM_ADXR_daily deleted\n",
      "added JPM_ADXR_daily\n",
      "JPM_ADX_daily deleted\n",
      "added JPM_ADX_daily\n",
      "JPM_AD_daily deleted\n",
      "added JPM_AD_daily\n",
      "JPM_APO_daily deleted\n",
      "added JPM_APO_daily\n",
      "JPM_AROONOSC_daily deleted\n",
      "added JPM_AROONOSC_daily\n",
      "JPM_ATR_daily deleted\n",
      "exceeded limit\n",
      "JPM_ATR_daily deleted\n",
      "added JPM_ATR_daily\n",
      "JPM_BBANDS_daily deleted\n",
      "added JPM_BBANDS_daily\n",
      "JPM_BOP_daily deleted\n",
      "added JPM_BOP_daily\n",
      "JPM_CCI_daily deleted\n",
      "added JPM_CCI_daily\n",
      "JPM_CMO_daily deleted\n",
      "added JPM_CMO_daily\n",
      "JPM_DEMA_daily deleted\n",
      "exceeded limit\n",
      "JPM_DEMA_daily deleted\n",
      "added JPM_DEMA_daily\n",
      "JPM_DX_daily deleted\n",
      "added JPM_DX_daily\n",
      "JPM_EMA_daily deleted\n",
      "added JPM_EMA_daily\n",
      "JPM_KAMA_daily deleted\n",
      "added JPM_KAMA_daily\n",
      "JPM_MACDEXT_daily deleted\n",
      "added JPM_MACDEXT_daily\n",
      "JPM_MACD_daily deleted\n",
      "exceeded limit\n",
      "JPM_MACD_daily deleted\n",
      "added JPM_MACD_daily\n",
      "JPM_MAMA_daily deleted\n",
      "added JPM_MAMA_daily\n",
      "JPM_MFI_daily deleted\n",
      "added JPM_MFI_daily\n",
      "JPM_MIDPOINT_daily deleted\n",
      "added JPM_MIDPOINT_daily\n",
      "JPM_MIDPRICE_daily deleted\n",
      "added JPM_MIDPRICE_daily\n",
      "JPM_MOM_daily deleted\n",
      "added JPM_MOM_daily\n",
      "JPM_NATR_daily deleted\n",
      "added JPM_NATR_daily\n",
      "JPM_OBV_daily deleted\n",
      "added JPM_OBV_daily\n",
      "JPM_PPO_daily deleted\n",
      "added JPM_PPO_daily\n",
      "JPM_ROCR_daily deleted\n",
      "added JPM_ROCR_daily\n",
      "JPM_ROC_daily deleted\n",
      "added JPM_ROC_daily\n",
      "JPM_RSI_daily deleted\n",
      "added JPM_RSI_daily\n",
      "JPM_SAR_daily deleted\n",
      "exceeded limit\n",
      "JPM_SAR_daily deleted\n",
      "added JPM_SAR_daily\n",
      "JPM_SMA_daily deleted\n",
      "added JPM_SMA_daily\n",
      "JPM_STOCHF_daily deleted\n",
      "added JPM_STOCHF_daily\n",
      "JPM_STOCHRSI_daily deleted\n",
      "added JPM_STOCHRSI_daily\n",
      "JPM_STOCH_daily deleted\n",
      "added JPM_STOCH_daily\n",
      "JPM_T3_daily deleted\n",
      "exceeded limit\n",
      "JPM_T3_daily deleted\n",
      "added JPM_T3_daily\n",
      "JPM_TEMA_daily deleted\n",
      "added JPM_TEMA_daily\n",
      "JPM_TRANGE_daily deleted\n",
      "added JPM_TRANGE_daily\n",
      "JPM_TRIMA_daily deleted\n",
      "added JPM_TRIMA_daily\n",
      "JPM_TRIX_daily deleted\n",
      "added JPM_TRIX_daily\n",
      "JPM_ULTOSC_daily deleted\n",
      "exceeded limit\n",
      "JPM_ULTOSC_daily deleted\n",
      "added JPM_ULTOSC_daily\n",
      "JPM_WILLR_daily deleted\n",
      "added JPM_WILLR_daily\n",
      "JPM_WMA_daily deleted\n",
      "added JPM_WMA_daily\n"
     ]
    }
   ],
   "source": [
    "DataStore.update_indicator('JPM')"
   ]
  },
  {
   "cell_type": "code",
   "execution_count": 37,
   "id": "667d7986-0cd7-48c3-a965-15d1d3be70ff",
   "metadata": {},
   "outputs": [],
   "source": [
    "dates = [dt.datetime(2008,1,1), dt.datetime(2015,12,31)]\n",
    "dates = None\n",
    "sym = 'JPM'\n",
    "indicators = ['SMA','OBV', 'AD', 'BBANDS', 'MFI', 'SAR', 'T3', 'MOM', 'MIDPRICE', 'WMA']\n",
    "indicators = 'all'\n",
    "history = History(DataStore, sym, dates, indicators=indicators)\n",
    "indicators = history.indicators\n",
    "prices = history.prices\n",
    "\n",
    "indicators.rename(columns={'adjusted close': 'Close'}, inplace=True)"
   ]
  },
  {
   "cell_type": "code",
   "execution_count": 63,
   "id": "3c356664-96a9-4d72-9c90-9a12e9a9a664",
   "metadata": {},
   "outputs": [],
   "source": [
    "predictors = indicators.iloc[:, 1:]\n",
    "close_price = indicators.iloc[:, 0]\n",
    "\n",
    "# predict tomorrow's closing price using today's indicators... \n",
    "predictors = predictors[:-1]\n",
    "close_price = close_price[1:]"
   ]
  },
  {
   "cell_type": "code",
   "execution_count": 64,
   "id": "daa51cf7-025f-49d9-9e92-f42b789b60cf",
   "metadata": {},
   "outputs": [],
   "source": [
    "scaler = StandardScaler()\n",
    "predictors = scaler.fit_transform(predictors)\n",
    "\n",
    "X_train, X_test, y_train, y_test = train_test_split(predictors, close_price, test_size=0.3)\n",
    "\n",
    "y_train = y_train.to_numpy().astype(float)\n",
    "y_test = y_test.to_numpy().astype(float)"
   ]
  },
  {
   "cell_type": "code",
   "execution_count": 65,
   "id": "142067ca-00cc-4457-80fa-27fa35d252fe",
   "metadata": {},
   "outputs": [
    {
     "data": {
      "text/plain": [
       "0.9978682747376983"
      ]
     },
     "execution_count": 65,
     "metadata": {},
     "output_type": "execute_result"
    }
   ],
   "source": [
    "clf = tree.DecisionTreeRegressor()\n",
    "clf = clf.fit(X_train, y_train)\n",
    "clf.score(X_test, y_test)"
   ]
  },
  {
   "cell_type": "code",
   "execution_count": 66,
   "id": "02fb9d60-3fb0-4cb0-8e27-dc0706a75361",
   "metadata": {},
   "outputs": [
    {
     "data": {
      "text/plain": [
       "0.9224187759745819"
      ]
     },
     "execution_count": 66,
     "metadata": {},
     "output_type": "execute_result"
    }
   ],
   "source": [
    "from sklearn import svm\n",
    "regr = svm.SVR()\n",
    "regr = regr.fit(X_train, y_train)\n",
    "regr.score(X_test, y_test)"
   ]
  },
  {
   "cell_type": "code",
   "execution_count": 67,
   "id": "b56d472a-5fde-4bf8-bf79-caa6769762fd",
   "metadata": {},
   "outputs": [
    {
     "data": {
      "text/plain": [
       "0.9973171254684053"
      ]
     },
     "execution_count": 67,
     "metadata": {},
     "output_type": "execute_result"
    }
   ],
   "source": [
    "X, y = make_regression(n_features=4, n_informative=2,shuffle=False)\n",
    "regr = AdaBoostRegressor(n_estimators=100)\n",
    "regr.fit(X, y)\n",
    "regr.score(X, y)"
   ]
  },
  {
   "cell_type": "code",
   "execution_count": null,
   "id": "ad3f12aa-7a1f-435f-bf0d-b2c79f61c8c6",
   "metadata": {},
   "outputs": [],
   "source": [
    "ToDo : create fun for last day indicators, predict adjusted close... "
   ]
  }
 ],
 "metadata": {
  "kernelspec": {
   "display_name": "Python 3",
   "language": "python",
   "name": "python3"
  },
  "language_info": {
   "codemirror_mode": {
    "name": "ipython",
    "version": 3
   },
   "file_extension": ".py",
   "mimetype": "text/x-python",
   "name": "python",
   "nbconvert_exporter": "python",
   "pygments_lexer": "ipython3",
   "version": "3.8.10"
  }
 },
 "nbformat": 4,
 "nbformat_minor": 5
}
