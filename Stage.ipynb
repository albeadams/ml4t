{
 "cells": [
  {
   "cell_type": "markdown",
   "id": "122c5467-665c-4c68-8f07-4244879e5ae7",
   "metadata": {},
   "source": [
    "### Uses Paper Trade - test money\n",
    "##### https://alpaca.markets/docs/api-documentation/api-v2/"
   ]
  },
  {
   "cell_type": "code",
   "execution_count": null,
   "id": "6229c5c0-41b3-490e-aee8-a3ff32c7d234",
   "metadata": {},
   "outputs": [],
   "source": [
    "import time, datetime\n",
    "import pandas as pd\n",
    "\n",
    "import alpha, database\n",
    "from portfolios import *\n",
    "\n",
    "DataStore = database.DataStore()"
   ]
  },
  {
   "cell_type": "code",
   "execution_count": null,
   "id": "2a3d69f6-aa6f-4c25-a761-39a7590c6c83",
   "metadata": {},
   "outputs": [],
   "source": [
    "def build_multiple_state(portfolio=AAPL):\n",
    "    # Pass in multiple as a list of strings ['AAPL', 'TSLA'] \n",
    "    # or comma separated string: 'AAPL, TSLA, AMZN'\n",
    "    if portfolio == None:\n",
    "        print('specify a portfolio')\n",
    "        return\n",
    "    if not isinstance(portfolio, list):\n",
    "        portfolio = portfolio.split(',')\n",
    "        portfolio = [x.strip() for x in portfolio]\n",
    "    stocks = []\n",
    "    for eachSymbol in portfolio:\n",
    "        symbols = []\n",
    "        symbols.append(DataStore.list_symbols(sym=eachSymbol))\n",
    "        symbols = [item for sublist in symbols for item in sublist]\n",
    "        df = pd.DataFrame()\n",
    "        for symbol in symbols:\n",
    "            x = DataStore.read(symbol)\n",
    "            df2 = pd.DataFrame.from_dict(x[0], orient='index')\n",
    "            df = df.merge(df2, how='outer', left_index=True, right_index=True)\n",
    "        df = df.fillna(method='ffill')\n",
    "        stocks.append(df)\n",
    "    return stocks\n",
    "\n",
    "def build_state(portfolio=AAPL):\n",
    "    # For single symbol only\n",
    "    if portfolio == None:\n",
    "        print('specify a portfolio')\n",
    "        return\n",
    "    if not isinstance(portfolio, list):\n",
    "        portfolio = portfolio.split(',')\n",
    "        portfolio = [x.strip() for x in portfolio]\n",
    "    if len(portfolio) > 1:\n",
    "        print('use build_multiple_state(list) when specifying multiple symbols')\n",
    "        return\n",
    "    symbols = []\n",
    "    for eachSymbol in portfolio:\n",
    "        symbols.append(DataStore.list_symbols(sym=eachSymbol))\n",
    "    symbols = [item for sublist in symbols for item in sublist]\n",
    "    df = pd.DataFrame()\n",
    "    for symbol in symbols:\n",
    "        x = DataStore.read(symbol)\n",
    "        df2 = pd.DataFrame.from_dict(x[0], orient='index')\n",
    "        df = df.merge(df2, how='outer', left_index=True, right_index=True)\n",
    "    df = df.fillna(method='ffill')\n",
    "    return df\n",
    "\n",
    "#df = build_state('AAPL')"
   ]
  },
  {
   "cell_type": "code",
   "execution_count": 1,
   "id": "b53efa05-a133-4f76-bb6e-eb28dc76ad0a",
   "metadata": {},
   "outputs": [
    {
     "name": "stdout",
     "output_type": "stream",
     "text": [
      "ERROR! Session/line number was not unique in database. History logging moved to new session 386\n"
     ]
    },
    {
     "name": "stderr",
     "output_type": "stream",
     "text": [
      "\u001b[2m\u001b[36m(pid=None)\u001b[0m 'C:\\Users\\albeadam\\OneDrive' is not recognized as an internal or external command,\n",
      "\u001b[2m\u001b[36m(pid=None)\u001b[0m operable program or batch file.\n"
     ]
    }
   ],
   "source": [
    "# from ray import tune\n",
    "# from ray.rllib.agents.ppo import PPOTrainer\n",
    "# tune.run(PPOTrainer, config={\"env\": \"CartPole-v0\", \"log_level\": \"INFO\", \"framework\": \"torch\"})"
   ]
  },
  {
   "cell_type": "code",
   "execution_count": null,
   "id": "883e56e4-252a-42b9-b446-ca319eb915c5",
   "metadata": {},
   "outputs": [],
   "source": []
  }
 ],
 "metadata": {
  "kernelspec": {
   "display_name": "Python 3",
   "language": "python",
   "name": "python3"
  },
  "language_info": {
   "codemirror_mode": {
    "name": "ipython",
    "version": 3
   },
   "file_extension": ".py",
   "mimetype": "text/x-python",
   "name": "python",
   "nbconvert_exporter": "python",
   "pygments_lexer": "ipython3",
   "version": "3.8.10"
  }
 },
 "nbformat": 4,
 "nbformat_minor": 5
}
