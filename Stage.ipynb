{
 "cells": [
  {
   "cell_type": "markdown",
   "id": "122c5467-665c-4c68-8f07-4244879e5ae7",
   "metadata": {},
   "source": [
    "### Uses Paper Trade - test money\n",
    "##### https://alpaca.markets/docs/api-documentation/api-v2/"
   ]
  },
  {
   "cell_type": "code",
   "execution_count": 1,
   "id": "6229c5c0-41b3-490e-aee8-a3ff32c7d234",
   "metadata": {},
   "outputs": [],
   "source": [
    "import warnings\n",
    "warnings.simplefilter(action='ignore', category=FutureWarning)\n",
    "\n",
    "import time, datetime\n",
    "import pandas as pd\n",
    "\n",
    "import alpha, database\n",
    "from populate import *\n",
    "from portfolios import *\n",
    "from state import *\n",
    "\n",
    "DataStore = database.DataStore()"
   ]
  },
  {
   "cell_type": "code",
   "execution_count": 2,
   "id": "07082651-4835-4dd4-a175-8b7c26596e5d",
   "metadata": {},
   "outputs": [
    {
     "name": "stdout",
     "output_type": "stream",
     "text": [
      "Available to use:\n",
      "  <classname>.prices\n",
      "  <classname>.indicators\n"
     ]
    }
   ],
   "source": [
    "state = State(DataStore, 'AAPL', indicators=['ADX', 'CCI', 'EMA'])"
   ]
  },
  {
   "cell_type": "code",
   "execution_count": 13,
   "id": "59f4be2b-a2bc-4639-a0cb-5b53ca523f92",
   "metadata": {},
   "outputs": [],
   "source": [
    "import gym\n",
    "import numpy as np\n",
    "from gym import spaces\n",
    "import pandas as pd\n",
    "\n",
    "class StockTrader(gym.Env):\n",
    "    \n",
    "    def __init__(self, dfPrices=None, dfIndicators=None):\n",
    "        \"\"\"dfIndicators is a DataFrame where each column is a different indicator\"\"\"\n",
    "        self.indicators = dfIndicators\n",
    "        self.prices = dfPrices\n",
    "        assert self.indicators is not None and isinstance(self.indicators, pd.DataFrame), \"need indicator dataframe\"\n",
    "        assert self.prices is not None and isinstance(self.prices, pd.DataFrame), \"need prices dataframe\"\n",
    "        num_indicators = self.indicators.shape[1]\n",
    "        assert num_indicators > 0, \"supply 1 or more indicators\"\n",
    "\n",
    "        self.action_space = spaces.Discrete(3)\n",
    "\n",
    "        # set space for alpha indicators at +- infinity...?\n",
    "        low_array = np.full((num_indicators), -np.inf)\n",
    "        high_array = np.full((num_indicators), np.inf)\n",
    "        self.observation_space = spaces.Box(low=low_array, high=high_array, dtype=np.float64)\n",
    "        \n",
    "        self.previous_price = 0  # didn't exist before first day, so set previous_price to 0\n",
    "        first_day = self.indicators.index[0] # starting at first day indicators exist\n",
    "        self.prices = self.prices.loc[first_day:] # rewriting prices to fit indicator list\n",
    "        \n",
    "        self.state = np.array(self.indicators.iloc[0]) # first day is inititial state\n",
    "        self.days = iter(self.prices.index.values)\n",
    "        \n",
    "        # Iterate through days, checking action/reward, etc. in step...\n",
    "\n",
    "    def reset(self):\n",
    "        return np.array(self.indicators.iloc[0])\n",
    "    \n",
    "    def step(self, action):\n",
    "        #https://github.com/openai/gym/blob/master/gym/envs/classic_control/cartpole.py\n",
    "        err_msg = \"%r (%s) invalid\" % (action, type(action))\n",
    "        assert self.action_space.contains(action), err_msg\n",
    "        \n",
    "        #self.state = \n",
    "        #return <obs>, <reward: float>, <done: bool>, <info: dict>"
   ]
  },
  {
   "cell_type": "code",
   "execution_count": 14,
   "id": "519160fe-645f-4ab0-84e7-2871d6537a52",
   "metadata": {},
   "outputs": [],
   "source": [
    "trader = StockTrader(state.prices, state.indicators)"
   ]
  }
 ],
 "metadata": {
  "kernelspec": {
   "display_name": "Python 3",
   "language": "python",
   "name": "python3"
  },
  "language_info": {
   "codemirror_mode": {
    "name": "ipython",
    "version": 3
   },
   "file_extension": ".py",
   "mimetype": "text/x-python",
   "name": "python",
   "nbconvert_exporter": "python",
   "pygments_lexer": "ipython3",
   "version": "3.8.10"
  }
 },
 "nbformat": 4,
 "nbformat_minor": 5
}
