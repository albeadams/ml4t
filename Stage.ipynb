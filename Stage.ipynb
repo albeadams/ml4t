{
 "cells": [
  {
   "cell_type": "markdown",
   "id": "122c5467-665c-4c68-8f07-4244879e5ae7",
   "metadata": {},
   "source": [
    "### Uses Paper Trade - test money\n",
    "##### https://alpaca.markets/docs/api-documentation/api-v2/"
   ]
  },
  {
   "cell_type": "code",
   "execution_count": 1,
   "id": "6229c5c0-41b3-490e-aee8-a3ff32c7d234",
   "metadata": {},
   "outputs": [],
   "source": [
    "import warnings\n",
    "warnings.simplefilter(action='ignore', category=FutureWarning)\n",
    "\n",
    "import time, datetime\n",
    "import pandas as pd\n",
    "\n",
    "import alpha, database as db\n",
    "import alpaca_trade as alpaca\n",
    "from populate import *\n",
    "from portfolios import *\n",
    "from state import *\n",
    "\n",
    "DataStore = db.DataStore()"
   ]
  },
  {
   "cell_type": "code",
   "execution_count": 2,
   "id": "e8ae39a0-ee02-430c-a379-405cf63f12de",
   "metadata": {},
   "outputs": [
    {
     "data": {
      "text/plain": [
       "[]"
      ]
     },
     "execution_count": 2,
     "metadata": {},
     "output_type": "execute_result"
    }
   ],
   "source": [
    "alpaca.get_positions()"
   ]
  },
  {
   "cell_type": "code",
   "execution_count": 3,
   "id": "07082651-4835-4dd4-a175-8b7c26596e5d",
   "metadata": {},
   "outputs": [
    {
     "name": "stdout",
     "output_type": "stream",
     "text": [
      "Available to use:\n",
      "  <classname>.prices\n",
      "  <classname>.indicators\n"
     ]
    }
   ],
   "source": [
    "state = State(DataStore, 'AAPL', indicators=['ADX', 'CCI', 'EMA'])"
   ]
  },
  {
   "cell_type": "code",
   "execution_count": 20,
   "id": "59f4be2b-a2bc-4639-a0cb-5b53ca523f92",
   "metadata": {},
   "outputs": [],
   "source": [
    "import gym\n",
    "import numpy as np\n",
    "from gym import spaces\n",
    "import pandas as pd\n",
    "\n",
    "# class ConvergeCheck:\n",
    "#     def __init__(self, wait=10):\n",
    "#         '''wait is how long to wait after loss goes up'''\n",
    "#         self.wait = wait\n",
    "#         self.counter = 0\n",
    "#         self.previous_loss = None\n",
    "        \n",
    "#     def divergence_check(self, loss):\n",
    "#         if self.previous_loss is None:\n",
    "#             self.previous_loss = loss\n",
    "#         elif loss > self.previous_loss:\n",
    "#             self.counter += 1\n",
    "#             if self.counter >= self.wait:\n",
    "#                 return True\n",
    "#         else:\n",
    "#             self.previous_loss = loss\n",
    "#             self.counter = 0\n",
    "#         return False\n",
    "    \n",
    "#     def convergence_check(self, trades)\n",
    "    \n",
    "#         if trades.equals(trades_dupl):\n",
    "#         converged = True\n",
    "#     else:\n",
    "#         trades_dupl = trades.copy(deep = True)\n",
    "#         trades.iloc[:,:] = 0\n",
    "\n",
    "class Portfolio:\n",
    "    def __init__(self):\n",
    "        self.cash_remaining = int(alpaca.get_account()['cash'])\n",
    "        self.positions = alpaca.get_positions()\n",
    "        \n",
    "    def position(self, sym):\n",
    "        if sym in self.positions: # not sure format positions returned...\n",
    "            alpaca.get_position(sym)\n",
    "        else:\n",
    "            print(f'no position in {sym}'')\n",
    "        \n",
    "\n",
    "class StockTrader(gym.Env):\n",
    "    def __init__(self,\n",
    "                portfolio=None,\n",
    "                sym = None,\n",
    "                dfPrices=None, \n",
    "                dfIndicators=None, \n",
    "                short=False):\n",
    "        \"\"\"dfIndicators is a DataFrame where each column is a different indicator; short=True would allow shorting position\"\"\"\n",
    "        assert portfolio is not None, \"need a portfolio\"\n",
    "        assert sym is not None, \"what symbol is this?\"\n",
    "        assert indicators is not None and isinstance(indicators, pd.DataFrame), \"need indicator dataframe\"\n",
    "        assert prices is not None and isinstance(prices, pd.DataFrame), \"need prices dataframe\"\n",
    "        \n",
    "        self.portfolio = portfolio\n",
    "        self.indicators = dfIndicators\n",
    "        self.prices = dfPrices\n",
    "        num_indicators = self.indicators.shape[1]\n",
    "        assert num_indicators > 0, \"supply 1 or more indicators\"\n",
    "\n",
    "        self.action_space = spaces.Discrete(3)\n",
    "\n",
    "        # set space for alpha indicators at +- infinity...?\n",
    "        low_array = np.full((num_indicators), -np.inf)\n",
    "        high_array = np.full((num_indicators), np.inf)\n",
    "        self.observation_space = spaces.Box(low=low_array, high=high_array, dtype=np.float64)\n",
    "        \n",
    "        self.previous_price = 0  # didn't exist before first day, so set previous_price to 0\n",
    "        first_day = self.indicators.index[0] # starting at first day indicators exist\n",
    "        self.prices = self.prices.loc[first_day:] # rewriting prices to fit indicator list\n",
    "        \n",
    "        self.state = np.array(self.indicators.iloc[0]) # first day is inititial state\n",
    "        self.days = iter(self.prices.index.values)\n",
    "        \n",
    "        # Iterate through days, checking action/reward, etc. in step...\n",
    "        self.trades = pd.DataFrame(0, index = self.prices.index, columns = self.prices.columns)\n",
    "        self.trades_dupl = self.trades.copy(deep = True)\n",
    "        \n",
    "        # position is how much long (positive), short (negative) or holding (zero)\n",
    "        # NOTE: repalce with API to get position (add SYM to class to get symbol's position)\n",
    "        self.position = 0  # portfolio.position(sym)  # how parse?\n",
    "\n",
    "    def reset(self):\n",
    "        self.previous_price = 0\n",
    "        self.days = iter(self.prices.index.values)\n",
    "        self.state = np.array(self.indicators.iloc[0])\n",
    "        self.trades = pd.DataFrame(0, index = self.prices.index, columns = self.prices.columns)\n",
    "        self.position = 0\n",
    "    \n",
    "    def step(self, action):\n",
    "        #https://github.com/openai/gym/blob/master/gym/envs/classic_control/cartpole.py\n",
    "        err_msg = \"%r (%s) invalid\" % (action, type(action))\n",
    "        assert self.action_space.contains(action), err_msg\n",
    "        \n",
    "        #Calculate reward here... first day = 0\n",
    "        # 0 is buy, 1 is sell, 2 is hold\n",
    "        try:\n",
    "            new_day = next(trader.days)\n",
    "            current_price = self.prices.loc[new_day]\n",
    "            self.state = self.indicators.loc[new_day]\n",
    "\n",
    "            if action == 0 and current_price > self.previous_price:\n",
    "                reward = 2\n",
    "            elif action == 0 and current_price < self.previous_price:\n",
    "                reward = -2\n",
    "            elif action == 1 and current_price < self.previous_price:\n",
    "                reward = 2\n",
    "            elif action == 1 and current_price > self.previous_price:\n",
    "                reward = -2\n",
    "            elif action == 2 and (current_price > self.previous_price or current_price < self.previous_price):\n",
    "                reward = -2\n",
    "            elif action == 2 and current_price == self.previous_price:\n",
    "                reward = 2\n",
    "            else:\n",
    "                reward = 0\n",
    "                \n",
    "            if action == 0 and self.position == 0:\n",
    "                \n",
    "               # buying into a position\n",
    "\n",
    "            self.previous_price = current_price\n",
    "            done = False\n",
    "        except StopIteration:\n",
    "            if self.trades.equals(self.trades_dupl):\n",
    "                done = True\n",
    "            else:\n",
    "                done = False\n",
    "                self.trades_dupl = self.trades.copy(deep = True)\n",
    "\n",
    "        return self.state, reward, done, {}"
   ]
  },
  {
   "cell_type": "code",
   "execution_count": null,
   "id": "ab0daedf-a156-4e34-9a05-495c34460a9e",
   "metadata": {},
   "outputs": [],
   "source": [
    "sym = 'AAPL'\n",
    "state = State(DataStore, sym, indicators=['ADX', 'CCI', 'EMA'])\n",
    "StockTrader(state) # make it so can pass in state, which gets prices, values, the symbol, \n",
    "\n",
    "ToDo: refactor - state and portfolio combined? portfolio is holdings; state is a symbol's historic data\n",
    "    perhaps State is renamed -> History?"
   ]
  },
  {
   "cell_type": "code",
   "execution_count": 21,
   "id": "519160fe-645f-4ab0-84e7-2871d6537a52",
   "metadata": {
    "tags": []
   },
   "outputs": [],
   "source": [
    "trader = StockTrader(state.prices, state.indicators)"
   ]
  },
  {
   "cell_type": "code",
   "execution_count": 32,
   "id": "89a84831-574e-4a92-aeb3-2d62269b136e",
   "metadata": {},
   "outputs": [
    {
     "data": {
      "text/plain": [
       "ADX    1.0\n",
       "CCI    1.0\n",
       "EMA    1.0\n",
       "Name: 1999-11-29 00:00:00, dtype: float64"
      ]
     },
     "execution_count": 32,
     "metadata": {},
     "output_type": "execute_result"
    }
   ],
   "source": [
    "trader.step(1)\n",
    "trader.reset()\n",
    "trader.state"
   ]
  },
  {
   "cell_type": "code",
   "execution_count": null,
   "id": "7ccf004c-18b4-427c-9b45-88ba3f0c8d0a",
   "metadata": {},
   "outputs": [],
   "source": []
  }
 ],
 "metadata": {
  "kernelspec": {
   "display_name": "Python 3",
   "language": "python",
   "name": "python3"
  },
  "language_info": {
   "codemirror_mode": {
    "name": "ipython",
    "version": 3
   },
   "file_extension": ".py",
   "mimetype": "text/x-python",
   "name": "python",
   "nbconvert_exporter": "python",
   "pygments_lexer": "ipython3",
   "version": "3.8.10"
  }
 },
 "nbformat": 4,
 "nbformat_minor": 5
}
